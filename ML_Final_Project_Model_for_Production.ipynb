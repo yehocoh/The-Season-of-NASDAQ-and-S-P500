{
  "cells": [
    {
      "cell_type": "markdown",
      "metadata": {
        "id": "view-in-github",
        "colab_type": "text"
      },
      "source": [
        "<a href=\"https://colab.research.google.com/github/yehocoh/The-Season-of-NASDAQ-and-S-P500/blob/main/ML_Final_Project_Model_for_Production.ipynb\" target=\"_parent\"><img src=\"https://colab.research.google.com/assets/colab-badge.svg\" alt=\"Open In Colab\"/></a>"
      ]
    },
    {
      "cell_type": "code",
      "execution_count": null,
      "id": "b4ee7b42",
      "metadata": {
        "id": "b4ee7b42"
      },
      "outputs": [],
      "source": [
        "import pandas as pd\n",
        "import os\n",
        "import matplotlib.pyplot as plt\n",
        "import numpy as np\n",
        "import math\n",
        "import pickle\n",
        "from sklearn.ensemble import RandomForestClassifier"
      ]
    },
    {
      "cell_type": "markdown",
      "id": "06b54c62",
      "metadata": {
        "id": "06b54c62"
      },
      "source": [
        "# Loading Data_Set and TF Model"
      ]
    },
    {
      "cell_type": "markdown",
      "id": "3093ecd7",
      "metadata": {
        "id": "3093ecd7"
      },
      "source": [
        "### Entering Path"
      ]
    },
    {
      "cell_type": "code",
      "execution_count": null,
      "id": "df69c149",
      "metadata": {
        "id": "df69c149"
      },
      "outputs": [],
      "source": [
        "path=\"/Users/ohadbenmoshe/Library/Mobile Documents/com~apple~CloudDocs/Hebrew University/סימסטר א תשפג/למידת מכונה/עבודות/Final Project\""
      ]
    },
    {
      "cell_type": "code",
      "execution_count": null,
      "id": "687d2883",
      "metadata": {
        "id": "687d2883"
      },
      "outputs": [],
      "source": [
        "model_file = os.path.join(path, 'Random_Forest.pickle')\n",
        "data_file = os.path.join(path, 'Nasdaq_Jan_2023.csv')"
      ]
    },
    {
      "cell_type": "markdown",
      "id": "0b225b55",
      "metadata": {
        "id": "0b225b55"
      },
      "source": [
        "### Reading Data into DF-'Nasdaq_Jan_2023'"
      ]
    },
    {
      "cell_type": "code",
      "execution_count": null,
      "id": "cb690db9",
      "metadata": {
        "id": "cb690db9",
        "outputId": "b3340690-0a78-40d9-8047-7a7cc2e227aa"
      },
      "outputs": [
        {
          "data": {
            "text/html": [
              "<div>\n",
              "<style scoped>\n",
              "    .dataframe tbody tr th:only-of-type {\n",
              "        vertical-align: middle;\n",
              "    }\n",
              "\n",
              "    .dataframe tbody tr th {\n",
              "        vertical-align: top;\n",
              "    }\n",
              "\n",
              "    .dataframe thead th {\n",
              "        text-align: right;\n",
              "    }\n",
              "</style>\n",
              "<table border=\"1\" class=\"dataframe\">\n",
              "  <thead>\n",
              "    <tr style=\"text-align: right;\">\n",
              "      <th></th>\n",
              "      <th>Date</th>\n",
              "      <th>Close_Nasdaq</th>\n",
              "      <th>Volume_Nasdaq</th>\n",
              "      <th>Close_Bonds_20more</th>\n",
              "      <th>Close_Bonds_7to10</th>\n",
              "      <th>VIX</th>\n",
              "    </tr>\n",
              "  </thead>\n",
              "  <tbody>\n",
              "    <tr>\n",
              "      <th>0</th>\n",
              "      <td>2023-01-03</td>\n",
              "      <td>10386.980469</td>\n",
              "      <td>4780650000</td>\n",
              "      <td>101.199646</td>\n",
              "      <td>96.323723</td>\n",
              "      <td>22.90</td>\n",
              "    </tr>\n",
              "    <tr>\n",
              "      <th>1</th>\n",
              "      <td>2023-01-04</td>\n",
              "      <td>10458.759766</td>\n",
              "      <td>5085380000</td>\n",
              "      <td>102.586082</td>\n",
              "      <td>97.062141</td>\n",
              "      <td>22.01</td>\n",
              "    </tr>\n",
              "    <tr>\n",
              "      <th>2</th>\n",
              "      <td>2023-01-05</td>\n",
              "      <td>10305.240234</td>\n",
              "      <td>4764270000</td>\n",
              "      <td>103.014977</td>\n",
              "      <td>96.922440</td>\n",
              "      <td>22.46</td>\n",
              "    </tr>\n",
              "    <tr>\n",
              "      <th>3</th>\n",
              "      <td>2023-01-06</td>\n",
              "      <td>10569.290039</td>\n",
              "      <td>5199780000</td>\n",
              "      <td>104.910103</td>\n",
              "      <td>98.169769</td>\n",
              "      <td>21.13</td>\n",
              "    </tr>\n",
              "    <tr>\n",
              "      <th>4</th>\n",
              "      <td>2023-01-09</td>\n",
              "      <td>10635.650391</td>\n",
              "      <td>5132190000</td>\n",
              "      <td>105.468666</td>\n",
              "      <td>98.419235</td>\n",
              "      <td>21.97</td>\n",
              "    </tr>\n",
              "  </tbody>\n",
              "</table>\n",
              "</div>"
            ],
            "text/plain": [
              "         Date  Close_Nasdaq  Volume_Nasdaq  Close_Bonds_20more  \\\n",
              "0  2023-01-03  10386.980469     4780650000          101.199646   \n",
              "1  2023-01-04  10458.759766     5085380000          102.586082   \n",
              "2  2023-01-05  10305.240234     4764270000          103.014977   \n",
              "3  2023-01-06  10569.290039     5199780000          104.910103   \n",
              "4  2023-01-09  10635.650391     5132190000          105.468666   \n",
              "\n",
              "   Close_Bonds_7to10    VIX  \n",
              "0          96.323723  22.90  \n",
              "1          97.062141  22.01  \n",
              "2          96.922440  22.46  \n",
              "3          98.169769  21.13  \n",
              "4          98.419235  21.97  "
            ]
          },
          "execution_count": 4,
          "metadata": {},
          "output_type": "execute_result"
        }
      ],
      "source": [
        "Nasdaq_Jan_2023  = pd.read_csv(data_file, index_col=False)\n",
        "Nasdaq_Jan_2023.reset_index(inplace=True, drop=True)\n",
        "Nasdaq_Jan_2023.head()"
      ]
    },
    {
      "cell_type": "markdown",
      "id": "3b153419",
      "metadata": {
        "id": "3b153419"
      },
      "source": [
        "### Preparation of X_Data"
      ]
    },
    {
      "cell_type": "code",
      "execution_count": null,
      "id": "1942c727",
      "metadata": {
        "id": "1942c727",
        "outputId": "5d8acdf1-13b3-4c4d-be55-de4d136da405"
      },
      "outputs": [
        {
          "data": {
            "text/html": [
              "<div>\n",
              "<style scoped>\n",
              "    .dataframe tbody tr th:only-of-type {\n",
              "        vertical-align: middle;\n",
              "    }\n",
              "\n",
              "    .dataframe tbody tr th {\n",
              "        vertical-align: top;\n",
              "    }\n",
              "\n",
              "    .dataframe thead th {\n",
              "        text-align: right;\n",
              "    }\n",
              "</style>\n",
              "<table border=\"1\" class=\"dataframe\">\n",
              "  <thead>\n",
              "    <tr style=\"text-align: right;\">\n",
              "      <th></th>\n",
              "      <th>Volume_Nasdaq</th>\n",
              "      <th>Close_Bonds_20more</th>\n",
              "      <th>Close_Bonds_7to10</th>\n",
              "      <th>VIX</th>\n",
              "    </tr>\n",
              "  </thead>\n",
              "  <tbody>\n",
              "    <tr>\n",
              "      <th>0</th>\n",
              "      <td>4780650000</td>\n",
              "      <td>101.199646</td>\n",
              "      <td>96.323723</td>\n",
              "      <td>22.90</td>\n",
              "    </tr>\n",
              "    <tr>\n",
              "      <th>1</th>\n",
              "      <td>5085380000</td>\n",
              "      <td>102.586082</td>\n",
              "      <td>97.062141</td>\n",
              "      <td>22.01</td>\n",
              "    </tr>\n",
              "    <tr>\n",
              "      <th>2</th>\n",
              "      <td>4764270000</td>\n",
              "      <td>103.014977</td>\n",
              "      <td>96.922440</td>\n",
              "      <td>22.46</td>\n",
              "    </tr>\n",
              "    <tr>\n",
              "      <th>3</th>\n",
              "      <td>5199780000</td>\n",
              "      <td>104.910103</td>\n",
              "      <td>98.169769</td>\n",
              "      <td>21.13</td>\n",
              "    </tr>\n",
              "    <tr>\n",
              "      <th>4</th>\n",
              "      <td>5132190000</td>\n",
              "      <td>105.468666</td>\n",
              "      <td>98.419235</td>\n",
              "      <td>21.97</td>\n",
              "    </tr>\n",
              "  </tbody>\n",
              "</table>\n",
              "</div>"
            ],
            "text/plain": [
              "   Volume_Nasdaq  Close_Bonds_20more  Close_Bonds_7to10    VIX\n",
              "0     4780650000          101.199646          96.323723  22.90\n",
              "1     5085380000          102.586082          97.062141  22.01\n",
              "2     4764270000          103.014977          96.922440  22.46\n",
              "3     5199780000          104.910103          98.169769  21.13\n",
              "4     5132190000          105.468666          98.419235  21.97"
            ]
          },
          "execution_count": 5,
          "metadata": {},
          "output_type": "execute_result"
        }
      ],
      "source": [
        "X_Data=Nasdaq_Jan_2023[[\"Volume_Nasdaq\",\"Close_Bonds_20more\",\"Close_Bonds_7to10\", \"VIX\"]].copy()\n",
        "X_Data.head()"
      ]
    },
    {
      "cell_type": "markdown",
      "id": "f2661c5b",
      "metadata": {
        "id": "f2661c5b"
      },
      "source": [
        "### Preparation of y_Data and converting Nasdaq price to Log"
      ]
    },
    {
      "cell_type": "code",
      "execution_count": null,
      "id": "0c1102d0",
      "metadata": {
        "id": "0c1102d0",
        "outputId": "035df2ff-da25-4da8-ba2b-8c4f6b7c6d53"
      },
      "outputs": [
        {
          "data": {
            "text/html": [
              "<div>\n",
              "<style scoped>\n",
              "    .dataframe tbody tr th:only-of-type {\n",
              "        vertical-align: middle;\n",
              "    }\n",
              "\n",
              "    .dataframe tbody tr th {\n",
              "        vertical-align: top;\n",
              "    }\n",
              "\n",
              "    .dataframe thead th {\n",
              "        text-align: right;\n",
              "    }\n",
              "</style>\n",
              "<table border=\"1\" class=\"dataframe\">\n",
              "  <thead>\n",
              "    <tr style=\"text-align: right;\">\n",
              "      <th></th>\n",
              "      <th>Close_Nasdaq</th>\n",
              "      <th>Close_Nasdaq_Log</th>\n",
              "    </tr>\n",
              "  </thead>\n",
              "  <tbody>\n",
              "    <tr>\n",
              "      <th>0</th>\n",
              "      <td>10386.980469</td>\n",
              "      <td>4.016489</td>\n",
              "    </tr>\n",
              "    <tr>\n",
              "      <th>1</th>\n",
              "      <td>10458.759766</td>\n",
              "      <td>4.019480</td>\n",
              "    </tr>\n",
              "    <tr>\n",
              "      <th>2</th>\n",
              "      <td>10305.240234</td>\n",
              "      <td>4.013058</td>\n",
              "    </tr>\n",
              "    <tr>\n",
              "      <th>3</th>\n",
              "      <td>10569.290039</td>\n",
              "      <td>4.024046</td>\n",
              "    </tr>\n",
              "    <tr>\n",
              "      <th>4</th>\n",
              "      <td>10635.650391</td>\n",
              "      <td>4.026764</td>\n",
              "    </tr>\n",
              "  </tbody>\n",
              "</table>\n",
              "</div>"
            ],
            "text/plain": [
              "   Close_Nasdaq  Close_Nasdaq_Log\n",
              "0  10386.980469          4.016489\n",
              "1  10458.759766          4.019480\n",
              "2  10305.240234          4.013058\n",
              "3  10569.290039          4.024046\n",
              "4  10635.650391          4.026764"
            ]
          },
          "execution_count": 6,
          "metadata": {},
          "output_type": "execute_result"
        }
      ],
      "source": [
        "\n",
        "y_Data=Nasdaq_Jan_2023[[\"Close_Nasdaq\"]].copy()\n",
        "y_Data[\"Close_Nasdaq_Log\"]=y_Data[\"Close_Nasdaq\"].apply(lambda x: math.log10(x))\n",
        "y_Data.head()"
      ]
    },
    {
      "cell_type": "markdown",
      "id": "54fade40",
      "metadata": {
        "id": "54fade40"
      },
      "source": [
        "## Loading Random Forest and Renning Prediction on Loaded Data Set"
      ]
    },
    {
      "cell_type": "code",
      "execution_count": null,
      "id": "00856d36",
      "metadata": {
        "id": "00856d36"
      },
      "outputs": [],
      "source": [
        "# Loading saved RF Model\n",
        "os.chdir(path)\n",
        "with open(model_file, 'rb') as f:\n",
        "    rf_loaded = pickle.load(f)"
      ]
    },
    {
      "cell_type": "markdown",
      "id": "3f89be74",
      "metadata": {
        "id": "3f89be74"
      },
      "source": [
        "### Executing Prediction"
      ]
    },
    {
      "cell_type": "code",
      "execution_count": null,
      "id": "b8b6294b",
      "metadata": {
        "id": "b8b6294b"
      },
      "outputs": [],
      "source": [
        "Prediction = rf_loaded.predict(X_Data)"
      ]
    },
    {
      "cell_type": "code",
      "execution_count": null,
      "id": "d3eb1aac",
      "metadata": {
        "id": "d3eb1aac",
        "outputId": "085bb1fe-3357-4af4-920e-780a5697cb69"
      },
      "outputs": [
        {
          "data": {
            "text/html": [
              "<div>\n",
              "<style scoped>\n",
              "    .dataframe tbody tr th:only-of-type {\n",
              "        vertical-align: middle;\n",
              "    }\n",
              "\n",
              "    .dataframe tbody tr th {\n",
              "        vertical-align: top;\n",
              "    }\n",
              "\n",
              "    .dataframe thead th {\n",
              "        text-align: right;\n",
              "    }\n",
              "</style>\n",
              "<table border=\"1\" class=\"dataframe\">\n",
              "  <thead>\n",
              "    <tr style=\"text-align: right;\">\n",
              "      <th></th>\n",
              "      <th>Prediction_Nasdaq_Log</th>\n",
              "      <th>Prediction_Nasdaq_Value</th>\n",
              "    </tr>\n",
              "  </thead>\n",
              "  <tbody>\n",
              "    <tr>\n",
              "      <th>0</th>\n",
              "      <td>3.706191</td>\n",
              "      <td>5083.824688</td>\n",
              "    </tr>\n",
              "    <tr>\n",
              "      <th>1</th>\n",
              "      <td>3.703567</td>\n",
              "      <td>5053.207206</td>\n",
              "    </tr>\n",
              "    <tr>\n",
              "      <th>2</th>\n",
              "      <td>3.708234</td>\n",
              "      <td>5107.803694</td>\n",
              "    </tr>\n",
              "    <tr>\n",
              "      <th>3</th>\n",
              "      <td>3.740478</td>\n",
              "      <td>5501.464153</td>\n",
              "    </tr>\n",
              "    <tr>\n",
              "      <th>4</th>\n",
              "      <td>3.708640</td>\n",
              "      <td>5112.582343</td>\n",
              "    </tr>\n",
              "  </tbody>\n",
              "</table>\n",
              "</div>"
            ],
            "text/plain": [
              "   Prediction_Nasdaq_Log  Prediction_Nasdaq_Value\n",
              "0               3.706191              5083.824688\n",
              "1               3.703567              5053.207206\n",
              "2               3.708234              5107.803694\n",
              "3               3.740478              5501.464153\n",
              "4               3.708640              5112.582343"
            ]
          },
          "execution_count": 19,
          "metadata": {},
          "output_type": "execute_result"
        }
      ],
      "source": [
        "Prediction = pd.DataFrame(Prediction, columns = ['Prediction_Nasdaq_Log'])\n",
        "Prediction[\"Prediction_Nasdaq_Value\"]=Prediction.apply(lambda x :(10 ** x.Prediction_Nasdaq_Log), axis=1)\n",
        "Prediction.head()"
      ]
    },
    {
      "cell_type": "markdown",
      "id": "60aa8f25",
      "metadata": {
        "id": "60aa8f25"
      },
      "source": [
        "## Evaluating the Model's Prediction"
      ]
    },
    {
      "cell_type": "code",
      "execution_count": null,
      "id": "fc328101",
      "metadata": {
        "id": "fc328101",
        "outputId": "33ea5002-391a-43b4-f7b6-610481b02189"
      },
      "outputs": [
        {
          "name": "stdout",
          "output_type": "stream",
          "text": [
            "\u001b[1mMean Absolute Error:     \u001b[0m  6,016.23 \u001b[1mPercent of MAE from Mean: \u001b[0m  52.92 %\n",
            "\u001b[1mRoot Mean Squared Error: \u001b[0m  6,035.79 \u001b[1mPercent of RMSE from Mean: \u001b[0m  53.09 %\n",
            "\u001b[1mR Squared:                        \u001b[0m -2,259.18\n",
            "\u001b[1mRandom Forest Score for Test:     \u001b[0m -242.0629\n"
          ]
        }
      ],
      "source": [
        "from sklearn.metrics import mean_absolute_error, mean_squared_error, r2_score\n",
        "MAE= mean_absolute_error(Prediction.Prediction_Nasdaq_Value, y_Data.Close_Nasdaq)\n",
        "Root_MSE=mean_squared_error(Prediction.Prediction_Nasdaq_Value, y_Data.Close_Nasdaq)**0.5\n",
        "R2=r2_score(Prediction.Prediction_Nasdaq_Value, y_Data.Close_Nasdaq)\n",
        "score = rf_loaded.score(X_Data,y_Data.Close_Nasdaq_Log)\n",
        "print(\"\\033[1m\"+f\"Mean Absolute Error:     \\033[0m {MAE_Train: ,.2f}\", \"\\033[1m\"+f\"Percent of MAE from Mean: \\033[0m {MAE/y_Data.Close_Nasdaq.mean()*100: .2f}\",\"%\")\n",
        "print(\"\\033[1m\"+f\"Root Mean Squared Error: \\033[0m {Root_MSE_Train: ,.2f}\", \"\\033[1m\"+f\"Percent of RMSE from Mean: \\033[0m {Root_MSE/y_Data.Close_Nasdaq.mean()*100: .2f}\",\"%\")\n",
        "print(\"\\033[1m\"+f\"R Squared:                        \\033[0m {R2: ,.2f}\")\n",
        "print(\"\\033[1m\"+f\"Random Forest Score for Test:     \\033[0m {score: ,.4f}\")"
      ]
    },
    {
      "cell_type": "code",
      "execution_count": null,
      "id": "bf54851b",
      "metadata": {
        "id": "bf54851b",
        "outputId": "dd9cb1c0-834b-43d0-f2a1-56fc9272e889"
      },
      "outputs": [
        {
          "data": {
            "text/plain": [
              "<matplotlib.legend.Legend at 0x7fa23ec049d0>"
            ]
          },
          "execution_count": 27,
          "metadata": {},
          "output_type": "execute_result"
        },
        {
          "data": {
            "image/png": "[encoded data removed]",
            "text/plain": [
              "<Figure size 1000x750 with 1 Axes>"
            ]
          },
          "metadata": {},
          "output_type": "display_data"
        }
      ],
      "source": [
        "plt.figure(figsize=(10,7.5))\n",
        "plt.plot(Nasdaq_Jan_2023.Date, Prediction.Prediction_Nasdaq_Value, label='Prediction of Nasdaq Values')\n",
        "plt.plot(Nasdaq_Jan_2023.Date, y_Data.Close_Nasdaq, label='Actual Nasdaq Values')\n",
        "\n",
        "plt.xticks(Nasdaq_Jan_2023.Date[::2], rotation=45)\n",
        "plt.title(\"Forecasting Nasdaq Values with Random Forest\", fontsize= 15, fontweight='bold')\n",
        "plt.xlabel('Trade Dates');\n",
        "plt.ylabel('Nasdaq Close Value')\n",
        "plt.legend()"
      ]
    },
    {
      "cell_type": "code",
      "execution_count": null,
      "id": "e3443f2a",
      "metadata": {
        "id": "e3443f2a"
      },
      "outputs": [],
      "source": []
    }
  ],
  "metadata": {
    "kernelspec": {
      "display_name": "Python 3 (ipykernel)",
      "language": "python",
      "name": "python3"
    },
    "language_info": {
      "codemirror_mode": {
        "name": "ipython",
        "version": 3
      },
      "file_extension": ".py",
      "mimetype": "text/x-python",
      "name": "python",
      "nbconvert_exporter": "python",
      "pygments_lexer": "ipython3",
      "version": "3.9.13"
    },
    "colab": {
      "provenance": [],
      "include_colab_link": true
    }
  },
  "nbformat": 4,
  "nbformat_minor": 5
}